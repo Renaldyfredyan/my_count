{
 "cells": [
  {
   "cell_type": "code",
   "execution_count": 7,
   "id": "bbe01a27-eb41-4c5d-a9d1-2132f27d7a01",
   "metadata": {},
   "outputs": [
    {
     "name": "stdout",
     "output_type": "stream",
     "text": [
      "/home/renaldy_fredyan/PhDResearch/ELS/module8\n",
      "Cloning into 'GroundingDINO'...\n",
      "remote: Enumerating objects: 463, done.\u001b[K\n",
      "remote: Counting objects: 100% (240/240), done.\u001b[K\n",
      "remote: Compressing objects: 100% (103/103), done.\u001b[K\n",
      "remote: Total 463 (delta 176), reused 137 (delta 137), pack-reused 223 (from 1)\u001b[K\n",
      "Receiving objects: 100% (463/463), 12.87 MiB | 19.73 MiB/s, done.\n",
      "Resolving deltas: 100% (241/241), done.\n",
      "/home/renaldy_fredyan/PhDResearch/ELS/module8/GroundingDINO\n"
     ]
    }
   ],
   "source": [
    "# Pindah ke direktori kerja yang benar\n",
    "%cd /home/renaldy_fredyan/PhDResearch/ELS/module8/\n",
    "\n",
    "# Hapus folder GroundingDINO jika sudah ada (agar tidak bentrok)\n",
    "!rm -rf GroundingDINO\n",
    "\n",
    "# Clone seluruh repositori\n",
    "!git clone https://github.com/IDEA-Research/GroundingDINO.git\n",
    "\n",
    "# Masuk ke dalam folder hasil cloning\n",
    "%cd GroundingDINO\n"
   ]
  },
  {
   "cell_type": "code",
   "execution_count": 6,
   "id": "a3a78342-44e1-4212-8b12-5a0434d1025c",
   "metadata": {},
   "outputs": [
    {
     "name": "stdout",
     "output_type": "stream",
     "text": [
      "/home/renaldy_fredyan/PhDResearch/ELS/module8\n"
     ]
    }
   ],
   "source": [
    "!pwd"
   ]
  }
 ],
 "metadata": {
  "kernelspec": {
   "display_name": "Python 3 (ipykernel)",
   "language": "python",
   "name": "python3"
  },
  "language_info": {
   "codemirror_mode": {
    "name": "ipython",
    "version": 3
   },
   "file_extension": ".py",
   "mimetype": "text/x-python",
   "name": "python",
   "nbconvert_exporter": "python",
   "pygments_lexer": "ipython3",
   "version": "3.10.16"
  }
 },
 "nbformat": 4,
 "nbformat_minor": 5
}
