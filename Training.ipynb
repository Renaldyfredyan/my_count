{
 "cells": [
  {
   "cell_type": "code",
   "execution_count": null,
   "id": "251297c8-f1ec-4d19-955d-9e59801f82b5",
   "metadata": {
    "scrolled": true
   },
   "outputs": [
    {
     "name": "stdout",
     "output_type": "stream",
     "text": [
      "WARNING:torch.distributed.run:\n",
      "*****************************************\n",
      "Setting OMP_NUM_THREADS environment variable for each process to be 1 in default, to avoid your system being overloaded, please further tune the variable for optimal performance in your application as needed. \n",
      "*****************************************\n",
      "Downloading pretrained model...\n",
      "Downloading pretrained model...\n",
      "Downloading pretrained model...\n",
      "Downloading pretrained model...\n",
      "model.safetensors:  29%|█████▉              | 52.4M/178M [00:01<00:03, 37.9MB/s]"
     ]
    }
   ],
   "source": [
    "!CUDA_VISIBLE_DEVICES=4,5,6,7 torchrun --nproc_per_node=4 module/train4.py\n"
   ]
  },
  {
   "cell_type": "code",
   "execution_count": 2,
   "id": "ad1af68d-1029-4643-ba78-d5b21118a1a1",
   "metadata": {},
   "outputs": [
    {
     "name": "stdout",
     "output_type": "stream",
     "text": [
      "Evaluating on Validation Set\n",
      "Downloading pretrained model...\n",
      "Traceback (most recent call last):\n",
      "  File \"/home/renaldy_fredyan/PhDResearch/ELS/module/evaluation.py\", line 81, in <module>\n",
      "    evaluate_model(\n",
      "  File \"/home/renaldy_fredyan/PhDResearch/ELS/module/evaluation.py\", line 29, in evaluate_model\n",
      "    model = LowShotObjectCounting().to(device)\n",
      "  File \"/home/renaldy_fredyan/PhDResearch/ELS/module/train.py\", line 27, in __init__\n",
      "    self.encoder = HybridEncoder(embed_dim=256)\n",
      "  File \"/home/renaldy_fredyan/PhDResearch/ELS/module/swin_transformer_encoder.py\", line 64, in __init__\n",
      "    self.swin_backbone = build_swin_transformer(embed_dim)\n",
      "  File \"/home/renaldy_fredyan/PhDResearch/ELS/module/swin_transformer_encoder.py\", line 31, in build_swin_transformer\n",
      "    model = create_model(\n",
      "  File \"/opt/miniconda/envs/Rey1/lib/python3.9/site-packages/timm/models/_factory.py\", line 113, in create_model\n",
      "    raise RuntimeError('Unknown model (%s)' % model_name)\n",
      "RuntimeError: Unknown model (swin_tiny_patch4_window7_224_in22k)\n"
     ]
    }
   ],
   "source": [
    "!CUDA_VISIBLE_DEVICES=7 python module/evaluation.py"
   ]
  },
  {
   "cell_type": "code",
   "execution_count": 3,
   "id": "5be984f2-4623-4b9c-bf78-1bc538255556",
   "metadata": {
    "scrolled": true
   },
   "outputs": [
    {
     "name": "stdout",
     "output_type": "stream",
     "text": [
      "Downloading pretrained model...\n",
      "Traceback (most recent call last):\n",
      "  File \"/home/renaldy_fredyan/PhDResearch/ELS/module/evaluate2.py\", line 108, in <module>\n",
      "    evaluate(args)\n",
      "  File \"/opt/miniconda/envs/Rey1/lib/python3.9/site-packages/torch/autograd/grad_mode.py\", line 27, in decorate_context\n",
      "    return func(*args, **kwargs)\n",
      "  File \"/home/renaldy_fredyan/PhDResearch/ELS/module/evaluate2.py\", line 26, in evaluate\n",
      "    model = build_model().to(device)\n",
      "  File \"/home/renaldy_fredyan/PhDResearch/ELS/module/evaluate2.py\", line 12, in build_model\n",
      "    return LowShotObjectCounting()\n",
      "  File \"/home/renaldy_fredyan/PhDResearch/ELS/module/train.py\", line 27, in __init__\n",
      "    self.encoder = HybridEncoder(embed_dim=256)\n",
      "  File \"/home/renaldy_fredyan/PhDResearch/ELS/module/swin_transformer_encoder.py\", line 64, in __init__\n",
      "    self.swin_backbone = build_swin_transformer(embed_dim)\n",
      "  File \"/home/renaldy_fredyan/PhDResearch/ELS/module/swin_transformer_encoder.py\", line 31, in build_swin_transformer\n",
      "    model = create_model(\n",
      "  File \"/opt/miniconda/envs/Rey1/lib/python3.9/site-packages/timm/models/_factory.py\", line 113, in create_model\n",
      "    raise RuntimeError('Unknown model (%s)' % model_name)\n",
      "RuntimeError: Unknown model (swin_tiny_patch4_window7_224_in22k)\n",
      "ERROR:torch.distributed.elastic.multiprocessing.api:failed (exitcode: 1) local_rank: 0 (pid: 35346) of binary: /opt/miniconda/envs/Rey1/bin/python\n",
      "Traceback (most recent call last):\n",
      "  File \"/opt/miniconda/envs/Rey1/bin/torchrun\", line 33, in <module>\n",
      "    sys.exit(load_entry_point('torch==1.11.0', 'console_scripts', 'torchrun')())\n",
      "  File \"/opt/miniconda/envs/Rey1/lib/python3.9/site-packages/torch/distributed/elastic/multiprocessing/errors/__init__.py\", line 345, in wrapper\n",
      "    return f(*args, **kwargs)\n",
      "  File \"/opt/miniconda/envs/Rey1/lib/python3.9/site-packages/torch/distributed/run.py\", line 724, in main\n",
      "    run(args)\n",
      "  File \"/opt/miniconda/envs/Rey1/lib/python3.9/site-packages/torch/distributed/run.py\", line 715, in run\n",
      "    elastic_launch(\n",
      "  File \"/opt/miniconda/envs/Rey1/lib/python3.9/site-packages/torch/distributed/launcher/api.py\", line 131, in __call__\n",
      "    return launch_agent(self._config, self._entrypoint, list(args))\n",
      "  File \"/opt/miniconda/envs/Rey1/lib/python3.9/site-packages/torch/distributed/launcher/api.py\", line 245, in launch_agent\n",
      "    raise ChildFailedError(\n",
      "torch.distributed.elastic.multiprocessing.errors.ChildFailedError: \n",
      "============================================================\n",
      "module/evaluate2.py FAILED\n",
      "------------------------------------------------------------\n",
      "Failures:\n",
      "  <NO_OTHER_FAILURES>\n",
      "------------------------------------------------------------\n",
      "Root Cause (first observed failure):\n",
      "[0]:\n",
      "  time      : 2025-02-03_19:20:56\n",
      "  host      : viplab-G481-H81-00\n",
      "  rank      : 0 (local_rank: 0)\n",
      "  exitcode  : 1 (pid: 35346)\n",
      "  error_file: <N/A>\n",
      "  traceback : To enable traceback see: https://pytorch.org/docs/stable/elastic/errors.html\n",
      "============================================================\n"
     ]
    }
   ],
   "source": [
    "!CUDA_VISIBLE_DEVICES=6 torchrun --nproc_per_node=1 module/evaluate2.py"
   ]
  }
 ],
 "metadata": {
  "kernelspec": {
   "display_name": "Python 3 (ipykernel)",
   "language": "python",
   "name": "python3"
  },
  "language_info": {
   "codemirror_mode": {
    "name": "ipython",
    "version": 3
   },
   "file_extension": ".py",
   "mimetype": "text/x-python",
   "name": "python",
   "nbconvert_exporter": "python",
   "pygments_lexer": "ipython3",
   "version": "3.9.19"
  }
 },
 "nbformat": 4,
 "nbformat_minor": 5
}
